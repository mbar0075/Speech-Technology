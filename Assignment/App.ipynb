{
 "cells": [
  {
   "cell_type": "markdown",
   "metadata": {},
   "source": [
    "**<center><h1>Speaker Classification with Deep Learning</h1></center>**\n",
    "**<center><h2>Speech Technology Assignment 2023-24</h2></center>**\n",
    "**<center><h3>Matthias Bartolo</h3></center>**"
   ]
  },
  {
   "cell_type": "markdown",
   "metadata": {},
   "source": [
    "**<h3>Package Installation</h3>**"
   ]
  },
  {
   "cell_type": "code",
   "execution_count": null,
   "metadata": {},
   "outputs": [],
   "source": []
  },
  {
   "cell_type": "markdown",
   "metadata": {},
   "source": [
    "**<h3>Package Imports</h3>**"
   ]
  },
  {
   "cell_type": "code",
   "execution_count": 1,
   "metadata": {},
   "outputs": [],
   "source": [
    "import os"
   ]
  },
  {
   "cell_type": "markdown",
   "metadata": {},
   "source": [
    "**<h3>Loading and Filtering Dataset</h3>**"
   ]
  },
  {
   "cell_type": "code",
   "execution_count": 11,
   "metadata": {},
   "outputs": [],
   "source": [
    "def get_speaker_roots_in_data_path(datapath=os.path.join(os.getcwd(), 'ABI-1 Corpus\\\\accents')):\n",
    "    \"\"\"Function to get the list of speaker roots in the data path.\n",
    "    \n",
    "    Args:\n",
    "        datapath (str): Path to the data folder.\n",
    "\n",
    "    Returns:\n",
    "        speaker_list (list): List of speaker roots in the data path.\n",
    "    \"\"\"\n",
    "    # Declaring the list of speakers\n",
    "    speaker_list = []\n",
    "\n",
    "    # Retrieving the list of accent subfolders\n",
    "    accent_subfolders = [f.path for f in os.scandir(datapath) if f.is_dir()]\n",
    "    \n",
    "    # Iterating through the accent subfolders\n",
    "    for accent in accent_subfolders:\n",
    "        # Iterating through the gender\n",
    "        for gender in ['female', 'male']:\n",
    "            # Retrieving the list of speaker folders\n",
    "            speaker_folders = os.listdir(os.path.join(accent, gender))\n",
    "            \n",
    "            # Iterating through the speaker folders\n",
    "            for speaker in speaker_folders:\n",
    "                # Checking if the speaker folder is not a hidden folder\n",
    "                if not speaker.startswith('.'):\n",
    "                    speaker_list.append(os.path.join(accent, gender, speaker))\n",
    "    \n",
    "    # Returning the list of speakers\n",
    "    return speaker_list"
   ]
  },
  {
   "cell_type": "code",
   "execution_count": 8,
   "metadata": {},
   "outputs": [],
   "source": [
    "def get_wav_files_in_path(datapath):\n",
    "    \"\"\"Function to get the list of wav files in the data path.\n",
    "\n",
    "    Args:\n",
    "        datapath (str): Path to the data folder.\n",
    "    \n",
    "    Returns:\n",
    "        wav_files (list): List of wav files in the data path.\n",
    "    \"\"\"\n",
    "    # Retrieving the list of files in the data path\n",
    "    files = os.listdir(datapath)\n",
    "\n",
    "    # Filtering the list of files to get only the wav files\n",
    "    wav_files = [f for f in files if f.endswith('.wav')]\n",
    "\n",
    "    # Appending the path to the wav files\n",
    "    wav_files = [os.path.join(datapath, f) for f in wav_files]\n",
    "    \n",
    "    # Returning the list of wav files\n",
    "    return wav_files"
   ]
  },
  {
   "cell_type": "code",
   "execution_count": 14,
   "metadata": {},
   "outputs": [
    {
     "name": "stdout",
     "output_type": "stream",
     "text": [
      "\u001b[1mNumber of speakers found: \u001b[0m285\n",
      "\u001b[1mNumber of wav files found: \u001b[0m2850\n"
     ]
    }
   ],
   "source": [
    "# Retrieving the list of speaker roots in the data path\n",
    "speaker_roots = get_speaker_roots_in_data_path()\n",
    "print('\\033[1m' + 'Number of speakers found: ' + '\\033[0m' + str(len(speaker_roots)))\n",
    "\n",
    "# Retrieving the list of wav files in the data path\n",
    "wav_files = []\n",
    "\n",
    "# Iterating through the speaker roots\n",
    "for speaker_root in speaker_roots:\n",
    "    # Retrieving the list of wav files in the speaker root\n",
    "    wav_files.extend(get_wav_files_in_path(speaker_root))\n",
    "\n",
    "print('\\033[1m' + 'Number of wav files found: ' + '\\033[0m' + str(len(wav_files)))"
   ]
  },
  {
   "cell_type": "markdown",
   "metadata": {},
   "source": [
    "**<h3>Preprocessing Data, Chunking and Dataset Splitting</h3>**"
   ]
  },
  {
   "cell_type": "code",
   "execution_count": null,
   "metadata": {},
   "outputs": [],
   "source": []
  },
  {
   "cell_type": "markdown",
   "metadata": {},
   "source": [
    "**<h3>Speaker Identification (SID) Model Design and Implementation</h3>**"
   ]
  },
  {
   "cell_type": "code",
   "execution_count": null,
   "metadata": {},
   "outputs": [],
   "source": []
  }
 ],
 "metadata": {
  "kernelspec": {
   "display_name": "ComputerVision",
   "language": "python",
   "name": "python3"
  },
  "language_info": {
   "codemirror_mode": {
    "name": "ipython",
    "version": 3
   },
   "file_extension": ".py",
   "mimetype": "text/x-python",
   "name": "python",
   "nbconvert_exporter": "python",
   "pygments_lexer": "ipython3",
   "version": "3.9.16"
  }
 },
 "nbformat": 4,
 "nbformat_minor": 2
}
